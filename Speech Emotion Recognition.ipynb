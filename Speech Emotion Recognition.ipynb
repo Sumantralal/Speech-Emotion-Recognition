{
 "cells": [
  {
   "cell_type": "markdown",
   "id": "0f5b1e06-321a-459b-9746-32cc25506355",
   "metadata": {},
   "source": [
    "<h1>Speech Emotion Recognition-Final Year Project</h1>"
   ]
  },
  {
   "cell_type": "markdown",
   "id": "4d8c6975-5957-4130-955c-b9e499664e36",
   "metadata": {},
   "source": [
    "<h3>Dataset Path</h3>"
   ]
  },
  {
   "cell_type": "code",
   "execution_count": 179,
   "id": "37ed0fd9-628b-4ee0-a2b7-71741a1a8b45",
   "metadata": {},
   "outputs": [],
   "source": [
    "data_directory = \"Desktop/speech-emotion-recognition-ravdess-data\""
   ]
  },
  {
   "cell_type": "markdown",
   "id": "9ca9b1f5-bc87-45e0-a458-e864f620c292",
   "metadata": {},
   "source": [
    "<h3>Import Libraries</h3>"
   ]
  },
  {
   "cell_type": "code",
   "execution_count": 180,
   "id": "c9925404-fda0-4b27-ac77-23f56b8775c6",
   "metadata": {},
   "outputs": [],
   "source": [
    "import librosa\n",
    "import soundfile\n",
    "import os, glob, pickle\n",
    "import numpy as np\n",
    "from sklearn.model_selection import train_test_split\n",
    "from sklearn.metrics import accuracy_score,classification_report, confusion_matrix, f1_score\n",
    "import pickle\n",
    "import keras\n",
    "from keras import layers, Sequential\n",
    "from keras.layers import Conv1D, Activation, Dropout, Dense, Flatten, MaxPooling1D\n",
    "from sklearn.preprocessing import LabelEncoder, OneHotEncoder\n",
    "from tensorflow.keras.utils import to_categorical\n",
    "from keras import regularizers\n",
    "from keras.optimizers import Adam\n",
    "from matplotlib import pyplot as plt\n",
    "import seaborn as sn\n",
    "import pandas as pd\n",
    "import sklearn.metrics as metrics"
   ]
  },
  {
   "cell_type": "markdown",
   "id": "0edd0b19-5094-482c-b8e9-31a2089d9822",
   "metadata": {},
   "source": [
    "<h3>Functions</h3>"
   ]
  },
  {
   "cell_type": "code",
   "execution_count": 181,
   "id": "da9911b1-f3cc-43b9-be65-542a4b3b5440",
   "metadata": {},
   "outputs": [],
   "source": [
    "# Emotions in the RAVDESS dataset, different numbers represent different emotion\n",
    "emotions = {\n",
    "    '01':'neutral',\n",
    "    '02':'calm',\n",
    "    '03':'happy',\n",
    "    '04':'sad',\n",
    "    '05':'angry',\n",
    "    '06':'fearful',\n",
    "    '07':'disgust',\n",
    "    '08':'surprised'\n",
    "}"
   ]
  },
  {
   "cell_type": "markdown",
   "id": "1e083a83-7817-439f-8cdc-1280ca35c81d",
   "metadata": {},
   "source": [
    "<h5>Extract features from audio files into numpy array</h5>"
   ]
  },
  {
   "cell_type": "code",
   "execution_count": 182,
   "id": "e29b5e23-72f5-4e5e-be16-7afc66dae50c",
   "metadata": {},
   "outputs": [],
   "source": [
    "def extract_feature(data, sr, mfcc, chroma, mel):\n",
    "    \n",
    "    \"\"\"\n",
    "    extract features from audio files into numpy array\n",
    "    \n",
    "    Parameters\n",
    "    ----------\n",
    "    data : np.ndarray, audio time series\n",
    "    sr : number > 0, sampling rate\n",
    "    mfcc : boolean, Mel Frequency Cepstral Coefficient, represents the short-term power spectrum of a sound\n",
    "    chroma : boolean, pertains to the 12 different pitch classes\n",
    "    mel : boolean, Mel Spectrogram Frequency\n",
    "    \n",
    "    \"\"\"\n",
    "    \n",
    "    if chroma:                          \n",
    "        stft = np.abs(librosa.stft(data))  \n",
    "    result = np.array([])\n",
    "    if mfcc:                          \n",
    "        mfccs = np.mean(librosa.feature.mfcc(y=data, sr=sr, n_mfcc=40).T, axis=0)\n",
    "        result = np.hstack((result, mfccs))\n",
    "    if chroma:                          \n",
    "        chroma = np.mean(librosa.feature.chroma_stft(S=stft, sr=sr).T,axis=0)\n",
    "        result = np.hstack((result, chroma))\n",
    "    if mel:                             \n",
    "        mel = np.mean(librosa.feature.melspectrogram(y=data, sr=sr).T, axis=0)\n",
    "        result = np.hstack((result, mel))\n",
    "        \n",
    "    return result "
   ]
  },
  {
   "cell_type": "markdown",
   "id": "a7b36baf-a360-409d-bd63-33c492ca6fec",
   "metadata": {},
   "source": [
    "<h3>Data Augmentation Techniques</h3>\n",
    "    <p>There are two types of data augmentation for audio that we will be using:</p>\n",
    "    <ul>\n",
    "        <li><strong>Noise addition:</strong> Add random white noises to the audio.</li>\n",
    "        <li><strong>Shifting:</strong> Shift the spectrogram in a direction.</li>\n",
    "    </ul>\n",
    "    <h5>Add white noise to the audio dataset.</h5>"
   ]
  },
  {
   "cell_type": "code",
   "execution_count": 183,
   "id": "6f524033-a3af-4edc-ac21-60dbfbb8b395",
   "metadata": {},
   "outputs": [],
   "source": [
    "def noise(data, noise_factor):\n",
    "    \n",
    "    \"\"\"\n",
    "    add random white noises to the audio\n",
    "\n",
    "    Parameters\n",
    "    ----------\n",
    "    data : np.ndarray, audio time series\n",
    "    noise_factor : float, the measure of noise to be added \n",
    "\n",
    "    \"\"\"\n",
    "    noise = np.random.randn(len(data)) \n",
    "    augmented_data = data + noise_factor * noise\n",
    "    \n",
    "    # Cast back to same data type\n",
    "    augmented_data = augmented_data.astype(type(data[0]))\n",
    "    return augmented_data"
   ]
  },
  {
   "cell_type": "markdown",
   "id": "c64dffc9-8d5c-4e0a-b13f-90615543b684",
   "metadata": {},
   "source": [
    "<h5>Shift the spectogram in a direction</h5>"
   ]
  },
  {
   "cell_type": "code",
   "execution_count": 184,
   "id": "840e1158-ff5e-4cbc-95cc-4c6a96d0f2bd",
   "metadata": {},
   "outputs": [],
   "source": [
    "def shift(data, sampling_rate, shift_max, shift_direction):\n",
    "    \n",
    "    \"\"\"\n",
    "    shift the spectogram in a direction\n",
    "    \n",
    "    Parameters\n",
    "    ----------\n",
    "    data : np.ndarray, audio time series\n",
    "    sampling_rate : number > 0, sampling rate\n",
    "    shift_max : float, maximum shift rate\n",
    "    shift_direction : string, right/both\n",
    "    \n",
    "    \"\"\"\n",
    "    shift = np.random.randint(sampling_rate * shift_max)\n",
    "    if shift_direction == 'right':\n",
    "        shift = -shift\n",
    "    elif shift_direction == 'both':\n",
    "        direction = np.random.randint(0, 2)\n",
    "        if direction == 1:\n",
    "            shift = -shift\n",
    "    augmented_data = np.roll(data, shift)\n",
    "    if shift > 0:\n",
    "        augmented_data[:shift] = 0\n",
    "    else:\n",
    "        augmented_data[shift:] = 0\n",
    "        \n",
    "    return augmented_data"
   ]
  },
  {
   "cell_type": "markdown",
   "id": "01f4464c-6fc3-49c3-ae5f-3f10425c70e2",
   "metadata": {},
   "source": [
    "<h3>Loading Dataset</h3>"
   ]
  },
  {
   "cell_type": "code",
   "execution_count": 185,
   "id": "12e887a3-2aa2-4c2a-8a40-3885bcf9d251",
   "metadata": {},
   "outputs": [],
   "source": [
    "def load_data(save=False):\n",
    "    \n",
    "    \"\"\"\n",
    "    loading dataset\n",
    "\n",
    "    Parameters\n",
    "    ----------\n",
    "    save : boolean, save the data to disk as .npy\n",
    "\n",
    "    \"\"\"\n",
    "    x, y = [], []\n",
    "    for file in glob.glob(data_directory + \"/Actor_*/*.wav\"):\n",
    "        # load an audio file as a floating point time series.    \n",
    "        data, sr = librosa.load(file)\n",
    "        \n",
    "        # extract features from audio files into numpy array\n",
    "        feature = extract_feature(data, sr, mfcc=True, chroma=True, mel=True)\n",
    "        x.append(feature)\n",
    "\n",
    "        file_name = os.path.basename(file)\n",
    "        \n",
    "        # get emotion label from the file name\n",
    "        emotion = emotions[file_name.split(\"-\")[2]]  \n",
    "        y.append(emotion)\n",
    "\n",
    "        # add noise to the data\n",
    "        n_data = noise(data, 0.001)\n",
    "        n_feature = extract_feature(n_data, sr, mfcc=True, chroma=True, mel=True)\n",
    "        x.append(n_feature)\n",
    "        y.append(emotion)\n",
    "\n",
    "        # shift the data\n",
    "        s_data = shift(data,sr,0.25,'right')\n",
    "        s_feature = extract_feature(s_data, sr, mfcc=True, chroma=True, mel=True)\n",
    "        x.append(s_feature)\n",
    "        y.append(emotion)\n",
    "    \n",
    "    if save==True:\n",
    "        np.save('X', np.array(x))\n",
    "        np.save('y', y)\n",
    "        \n",
    "    return np.array(x), y"
   ]
  },
  {
   "cell_type": "markdown",
   "id": "79177b65-873f-41c7-8aa5-b5a79e375bc6",
   "metadata": {},
   "source": [
    "<h3>Data processing</h3>"
   ]
  },
  {
   "cell_type": "markdown",
   "id": "edb71cee-4453-4f72-96de-11b57d0ab38b",
   "metadata": {},
   "source": [
    "<h5>Read in, extract features, and label data</h5>"
   ]
  },
  {
   "cell_type": "code",
   "execution_count": 186,
   "id": "b705d5aa-4c14-4001-9347-dddc4853b16c",
   "metadata": {},
   "outputs": [],
   "source": [
    "X, y = load_data(save=True)\n",
    "\n",
    "#X = np.load(\"X.npy\")\n",
    "#y = np.load(\"y.npy\")\n",
    "\n",
    "x_train, x_test, y_train, y_test = train_test_split(X, y, test_size=0.25, random_state=9)"
   ]
  },
  {
   "cell_type": "markdown",
   "id": "6e26faf1-4c82-4678-ae1a-1698c904daa1",
   "metadata": {},
   "source": [
    "<h5>Encode the data labels</h5>"
   ]
  },
  {
   "cell_type": "code",
   "execution_count": 187,
   "id": "628c00b5-62e2-427d-bc2c-4543c9a8407d",
   "metadata": {},
   "outputs": [
    {
     "name": "stdout",
     "output_type": "stream",
     "text": [
      "{'angry': 0, 'calm': 1, 'disgust': 2, 'fearful': 3, 'happy': 4, 'neutral': 5, 'sad': 6, 'surprised': 7}\n"
     ]
    }
   ],
   "source": [
    "labelencoder = LabelEncoder()\n",
    "labelencoder.fit(y_train)\n",
    "le_name_mapping = dict(zip(labelencoder.classes_, labelencoder.transform(labelencoder.classes_)))\n",
    "print(le_name_mapping)\n",
    "\n",
    "y_train = labelencoder.transform(y_train)\n",
    "y_test = labelencoder.transform(y_test)"
   ]
  },
  {
   "cell_type": "code",
   "execution_count": 188,
   "id": "8f349653-d0cc-4ae9-ad16-6464415b3868",
   "metadata": {},
   "outputs": [
    {
     "name": "stdout",
     "output_type": "stream",
     "text": [
      "Features extracted: 180\n"
     ]
    }
   ],
   "source": [
    "# Get the number of features extracted\n",
    "print(f'Features extracted: {x_train.shape[1]}')"
   ]
  },
  {
   "cell_type": "markdown",
   "id": "412f153c-a860-4348-aa56-e2e5526271d7",
   "metadata": {},
   "source": [
    "<h1>CNN Model Training</h1>\n",
    "<h4>Define the model and optimizer</h4>"
   ]
  },
  {
   "cell_type": "code",
   "execution_count": 129,
   "id": "b5f5b1f8-f5e1-4c5a-9e2e-991c2b327bb1",
   "metadata": {},
   "outputs": [],
   "source": [
    "model = Sequential()\n",
    "model.add(Conv1D(256, 5, padding='same', input_shape=(180, 1)))  # 1st layer\n",
    "model.add(Activation('relu'))\n",
    "model.add(Conv1D(128, 5, padding='same', kernel_regularizer=regularizers.l1_l2(l1=1e-5, l2=1e-4)))  # 2nd layer\n",
    "model.add(Activation('relu'))\n",
    "model.add(Dropout(0.1))\n",
    "model.add(MaxPooling1D(pool_size=(8)))\n",
    "model.add(Conv1D(128, 5, padding='same', kernel_regularizer=regularizers.l1_l2(l1=1e-5, l2=1e-4)))  # 3rd layer\n",
    "model.add(Activation('relu'))\n",
    "model.add(Conv1D(128, 5, padding='same', kernel_regularizer=regularizers.l1_l2(l1=1e-5, l2=1e-4)))  # 4th layer\n",
    "model.add(Activation('relu'))\n",
    "model.add(Dropout(0.5))\n",
    "model.add(Flatten())\n",
    "model.add(Dense(units=8, kernel_regularizer=regularizers.l1_l2(l1=1e-5, l2=1e-4), bias_regularizer=regularizers.l2(1e-4), activity_regularizer=regularizers.l2(1e-5)))  # 7th layer\n",
    "model.add(Activation('softmax'))\n",
    "opt = Adam(decay=1e-6)"
   ]
  },
  {
   "cell_type": "code",
   "execution_count": 130,
   "id": "fb26e595-62dc-4efe-b8a4-993f9f480fda",
   "metadata": {},
   "outputs": [],
   "source": [
    "model.compile(loss='sparse_categorical_crossentropy', optimizer=opt,metrics=['accuracy'])"
   ]
  },
  {
   "cell_type": "markdown",
   "id": "15014018-6927-4ac1-9225-59577de10e00",
   "metadata": {},
   "source": [
    "<h5>Start training the model</h5>"
   ]
  },
  {
   "cell_type": "code",
   "execution_count": 131,
   "id": "44c58665-cd21-4b84-b911-c81239edc146",
   "metadata": {},
   "outputs": [
    {
     "name": "stdout",
     "output_type": "stream",
     "text": [
      "Epoch 1/100\n",
      "\u001b[1m51/51\u001b[0m \u001b[32m━━━━━━━━━━━━━━━━━━━━\u001b[0m\u001b[37m\u001b[0m \u001b[1m4s\u001b[0m 63ms/step - accuracy: 0.1825 - loss: 3.0001 - val_accuracy: 0.3028 - val_loss: 1.9796\n",
      "Epoch 2/100\n",
      "\u001b[1m51/51\u001b[0m \u001b[32m━━━━━━━━━━━━━━━━━━━━\u001b[0m\u001b[37m\u001b[0m \u001b[1m3s\u001b[0m 65ms/step - accuracy: 0.2840 - loss: 1.9894 - val_accuracy: 0.3463 - val_loss: 1.8780\n",
      "Epoch 3/100\n",
      "\u001b[1m51/51\u001b[0m \u001b[32m━━━━━━━━━━━━━━━━━━━━\u001b[0m\u001b[37m\u001b[0m \u001b[1m3s\u001b[0m 67ms/step - accuracy: 0.3594 - loss: 1.8650 - val_accuracy: 0.4065 - val_loss: 1.7641\n",
      "Epoch 4/100\n",
      "\u001b[1m51/51\u001b[0m \u001b[32m━━━━━━━━━━━━━━━━━━━━\u001b[0m\u001b[37m\u001b[0m \u001b[1m3s\u001b[0m 67ms/step - accuracy: 0.3896 - loss: 1.7925 - val_accuracy: 0.4324 - val_loss: 1.6735\n",
      "Epoch 5/100\n",
      "\u001b[1m51/51\u001b[0m \u001b[32m━━━━━━━━━━━━━━━━━━━━\u001b[0m\u001b[37m\u001b[0m \u001b[1m3s\u001b[0m 67ms/step - accuracy: 0.4174 - loss: 1.7092 - val_accuracy: 0.4509 - val_loss: 1.6084\n",
      "Epoch 6/100\n",
      "\u001b[1m51/51\u001b[0m \u001b[32m━━━━━━━━━━━━━━━━━━━━\u001b[0m\u001b[37m\u001b[0m \u001b[1m3s\u001b[0m 68ms/step - accuracy: 0.4471 - loss: 1.6461 - val_accuracy: 0.4824 - val_loss: 1.5542\n",
      "Epoch 7/100\n",
      "\u001b[1m51/51\u001b[0m \u001b[32m━━━━━━━━━━━━━━━━━━━━\u001b[0m\u001b[37m\u001b[0m \u001b[1m4s\u001b[0m 69ms/step - accuracy: 0.4630 - loss: 1.5837 - val_accuracy: 0.4898 - val_loss: 1.4718\n",
      "Epoch 8/100\n",
      "\u001b[1m51/51\u001b[0m \u001b[32m━━━━━━━━━━━━━━━━━━━━\u001b[0m\u001b[37m\u001b[0m \u001b[1m4s\u001b[0m 69ms/step - accuracy: 0.4976 - loss: 1.5162 - val_accuracy: 0.5444 - val_loss: 1.3860\n",
      "Epoch 9/100\n",
      "\u001b[1m51/51\u001b[0m \u001b[32m━━━━━━━━━━━━━━━━━━━━\u001b[0m\u001b[37m\u001b[0m \u001b[1m4s\u001b[0m 70ms/step - accuracy: 0.5116 - loss: 1.4547 - val_accuracy: 0.5602 - val_loss: 1.3445\n",
      "Epoch 10/100\n",
      "\u001b[1m51/51\u001b[0m \u001b[32m━━━━━━━━━━━━━━━━━━━━\u001b[0m\u001b[37m\u001b[0m \u001b[1m4s\u001b[0m 71ms/step - accuracy: 0.5468 - loss: 1.4135 - val_accuracy: 0.5620 - val_loss: 1.2999\n",
      "Epoch 11/100\n",
      "\u001b[1m51/51\u001b[0m \u001b[32m━━━━━━━━━━━━━━━━━━━━\u001b[0m\u001b[37m\u001b[0m \u001b[1m4s\u001b[0m 76ms/step - accuracy: 0.5768 - loss: 1.3038 - val_accuracy: 0.5861 - val_loss: 1.2561\n",
      "Epoch 12/100\n",
      "\u001b[1m51/51\u001b[0m \u001b[32m━━━━━━━━━━━━━━━━━━━━\u001b[0m\u001b[37m\u001b[0m \u001b[1m4s\u001b[0m 71ms/step - accuracy: 0.5863 - loss: 1.2632 - val_accuracy: 0.6370 - val_loss: 1.1687\n",
      "Epoch 13/100\n",
      "\u001b[1m51/51\u001b[0m \u001b[32m━━━━━━━━━━━━━━━━━━━━\u001b[0m\u001b[37m\u001b[0m \u001b[1m4s\u001b[0m 72ms/step - accuracy: 0.6284 - loss: 1.1891 - val_accuracy: 0.6380 - val_loss: 1.1483\n",
      "Epoch 14/100\n",
      "\u001b[1m51/51\u001b[0m \u001b[32m━━━━━━━━━━━━━━━━━━━━\u001b[0m\u001b[37m\u001b[0m \u001b[1m4s\u001b[0m 76ms/step - accuracy: 0.6586 - loss: 1.1569 - val_accuracy: 0.6463 - val_loss: 1.0979\n",
      "Epoch 15/100\n",
      "\u001b[1m51/51\u001b[0m \u001b[32m━━━━━━━━━━━━━━━━━━━━\u001b[0m\u001b[37m\u001b[0m \u001b[1m4s\u001b[0m 76ms/step - accuracy: 0.6674 - loss: 1.0650 - val_accuracy: 0.6796 - val_loss: 1.0417\n",
      "Epoch 16/100\n",
      "\u001b[1m51/51\u001b[0m \u001b[32m━━━━━━━━━━━━━━━━━━━━\u001b[0m\u001b[37m\u001b[0m \u001b[1m4s\u001b[0m 78ms/step - accuracy: 0.6981 - loss: 1.0094 - val_accuracy: 0.6963 - val_loss: 1.0176\n",
      "Epoch 17/100\n",
      "\u001b[1m51/51\u001b[0m \u001b[32m━━━━━━━━━━━━━━━━━━━━\u001b[0m\u001b[37m\u001b[0m \u001b[1m4s\u001b[0m 79ms/step - accuracy: 0.6943 - loss: 0.9908 - val_accuracy: 0.7157 - val_loss: 0.9798\n",
      "Epoch 18/100\n",
      "\u001b[1m51/51\u001b[0m \u001b[32m━━━━━━━━━━━━━━━━━━━━\u001b[0m\u001b[37m\u001b[0m \u001b[1m4s\u001b[0m 77ms/step - accuracy: 0.7295 - loss: 0.9282 - val_accuracy: 0.7444 - val_loss: 0.9069\n",
      "Epoch 19/100\n",
      "\u001b[1m51/51\u001b[0m \u001b[32m━━━━━━━━━━━━━━━━━━━━\u001b[0m\u001b[37m\u001b[0m \u001b[1m4s\u001b[0m 79ms/step - accuracy: 0.7536 - loss: 0.8586 - val_accuracy: 0.7472 - val_loss: 0.8839\n",
      "Epoch 20/100\n",
      "\u001b[1m51/51\u001b[0m \u001b[32m━━━━━━━━━━━━━━━━━━━━\u001b[0m\u001b[37m\u001b[0m \u001b[1m4s\u001b[0m 75ms/step - accuracy: 0.7817 - loss: 0.8315 - val_accuracy: 0.7519 - val_loss: 0.9106\n",
      "Epoch 21/100\n",
      "\u001b[1m51/51\u001b[0m \u001b[32m━━━━━━━━━━━━━━━━━━━━\u001b[0m\u001b[37m\u001b[0m \u001b[1m4s\u001b[0m 77ms/step - accuracy: 0.8031 - loss: 0.7692 - val_accuracy: 0.7778 - val_loss: 0.8353\n",
      "Epoch 22/100\n",
      "\u001b[1m51/51\u001b[0m \u001b[32m━━━━━━━━━━━━━━━━━━━━\u001b[0m\u001b[37m\u001b[0m \u001b[1m4s\u001b[0m 83ms/step - accuracy: 0.8071 - loss: 0.7453 - val_accuracy: 0.7944 - val_loss: 0.8049\n",
      "Epoch 23/100\n",
      "\u001b[1m51/51\u001b[0m \u001b[32m━━━━━━━━━━━━━━━━━━━━\u001b[0m\u001b[37m\u001b[0m \u001b[1m4s\u001b[0m 82ms/step - accuracy: 0.8344 - loss: 0.7037 - val_accuracy: 0.7981 - val_loss: 0.7962\n",
      "Epoch 24/100\n",
      "\u001b[1m51/51\u001b[0m \u001b[32m━━━━━━━━━━━━━━━━━━━━\u001b[0m\u001b[37m\u001b[0m \u001b[1m4s\u001b[0m 78ms/step - accuracy: 0.8494 - loss: 0.6554 - val_accuracy: 0.8176 - val_loss: 0.7305\n",
      "Epoch 25/100\n",
      "\u001b[1m51/51\u001b[0m \u001b[32m━━━━━━━━━━━━━━━━━━━━\u001b[0m\u001b[37m\u001b[0m \u001b[1m4s\u001b[0m 85ms/step - accuracy: 0.8483 - loss: 0.6500 - val_accuracy: 0.8324 - val_loss: 0.6828\n",
      "Epoch 26/100\n",
      "\u001b[1m51/51\u001b[0m \u001b[32m━━━━━━━━━━━━━━━━━━━━\u001b[0m\u001b[37m\u001b[0m \u001b[1m4s\u001b[0m 79ms/step - accuracy: 0.8772 - loss: 0.6009 - val_accuracy: 0.8407 - val_loss: 0.6646\n",
      "Epoch 27/100\n",
      "\u001b[1m51/51\u001b[0m \u001b[32m━━━━━━━━━━━━━━━━━━━━\u001b[0m\u001b[37m\u001b[0m \u001b[1m4s\u001b[0m 79ms/step - accuracy: 0.8855 - loss: 0.5637 - val_accuracy: 0.8444 - val_loss: 0.6791\n",
      "Epoch 28/100\n",
      "\u001b[1m51/51\u001b[0m \u001b[32m━━━━━━━━━━━━━━━━━━━━\u001b[0m\u001b[37m\u001b[0m \u001b[1m4s\u001b[0m 81ms/step - accuracy: 0.8907 - loss: 0.5596 - val_accuracy: 0.8537 - val_loss: 0.6460\n",
      "Epoch 29/100\n",
      "\u001b[1m51/51\u001b[0m \u001b[32m━━━━━━━━━━━━━━━━━━━━\u001b[0m\u001b[37m\u001b[0m \u001b[1m4s\u001b[0m 79ms/step - accuracy: 0.9051 - loss: 0.5304 - val_accuracy: 0.8491 - val_loss: 0.6550\n",
      "Epoch 30/100\n",
      "\u001b[1m51/51\u001b[0m \u001b[32m━━━━━━━━━━━━━━━━━━━━\u001b[0m\u001b[37m\u001b[0m \u001b[1m4s\u001b[0m 80ms/step - accuracy: 0.8975 - loss: 0.5239 - val_accuracy: 0.8685 - val_loss: 0.6016\n",
      "Epoch 31/100\n",
      "\u001b[1m51/51\u001b[0m \u001b[32m━━━━━━━━━━━━━━━━━━━━\u001b[0m\u001b[37m\u001b[0m \u001b[1m4s\u001b[0m 80ms/step - accuracy: 0.9145 - loss: 0.5030 - val_accuracy: 0.8731 - val_loss: 0.6122\n",
      "Epoch 32/100\n",
      "\u001b[1m51/51\u001b[0m \u001b[32m━━━━━━━━━━━━━━━━━━━━\u001b[0m\u001b[37m\u001b[0m \u001b[1m4s\u001b[0m 77ms/step - accuracy: 0.9048 - loss: 0.5049 - val_accuracy: 0.8750 - val_loss: 0.5867\n",
      "Epoch 33/100\n",
      "\u001b[1m51/51\u001b[0m \u001b[32m━━━━━━━━━━━━━━━━━━━━\u001b[0m\u001b[37m\u001b[0m \u001b[1m4s\u001b[0m 76ms/step - accuracy: 0.9181 - loss: 0.4700 - val_accuracy: 0.8778 - val_loss: 0.5704\n",
      "Epoch 34/100\n",
      "\u001b[1m51/51\u001b[0m \u001b[32m━━━━━━━━━━━━━━━━━━━━\u001b[0m\u001b[37m\u001b[0m \u001b[1m4s\u001b[0m 76ms/step - accuracy: 0.9258 - loss: 0.4548 - val_accuracy: 0.8657 - val_loss: 0.6117\n",
      "Epoch 35/100\n",
      "\u001b[1m51/51\u001b[0m \u001b[32m━━━━━━━━━━━━━━━━━━━━\u001b[0m\u001b[37m\u001b[0m \u001b[1m4s\u001b[0m 82ms/step - accuracy: 0.9302 - loss: 0.4562 - val_accuracy: 0.8787 - val_loss: 0.5866\n",
      "Epoch 36/100\n",
      "\u001b[1m51/51\u001b[0m \u001b[32m━━━━━━━━━━━━━━━━━━━━\u001b[0m\u001b[37m\u001b[0m \u001b[1m4s\u001b[0m 78ms/step - accuracy: 0.9393 - loss: 0.4316 - val_accuracy: 0.8870 - val_loss: 0.5686\n",
      "Epoch 37/100\n",
      "\u001b[1m51/51\u001b[0m \u001b[32m━━━━━━━━━━━━━━━━━━━━\u001b[0m\u001b[37m\u001b[0m \u001b[1m4s\u001b[0m 82ms/step - accuracy: 0.9324 - loss: 0.4443 - val_accuracy: 0.8917 - val_loss: 0.5434\n",
      "Epoch 38/100\n",
      "\u001b[1m51/51\u001b[0m \u001b[32m━━━━━━━━━━━━━━━━━━━━\u001b[0m\u001b[37m\u001b[0m \u001b[1m4s\u001b[0m 79ms/step - accuracy: 0.9379 - loss: 0.4297 - val_accuracy: 0.8694 - val_loss: 0.6068\n",
      "Epoch 39/100\n",
      "\u001b[1m51/51\u001b[0m \u001b[32m━━━━━━━━━━━━━━━━━━━━\u001b[0m\u001b[37m\u001b[0m \u001b[1m4s\u001b[0m 78ms/step - accuracy: 0.9487 - loss: 0.4192 - val_accuracy: 0.8889 - val_loss: 0.5375\n",
      "Epoch 40/100\n",
      "\u001b[1m51/51\u001b[0m \u001b[32m━━━━━━━━━━━━━━━━━━━━\u001b[0m\u001b[37m\u001b[0m \u001b[1m4s\u001b[0m 81ms/step - accuracy: 0.9594 - loss: 0.3786 - val_accuracy: 0.8880 - val_loss: 0.5334\n",
      "Epoch 41/100\n",
      "\u001b[1m51/51\u001b[0m \u001b[32m━━━━━━━━━━━━━━━━━━━━\u001b[0m\u001b[37m\u001b[0m \u001b[1m5s\u001b[0m 89ms/step - accuracy: 0.9563 - loss: 0.3766 - val_accuracy: 0.8889 - val_loss: 0.5309\n",
      "Epoch 42/100\n",
      "\u001b[1m51/51\u001b[0m \u001b[32m━━━━━━━━━━━━━━━━━━━━\u001b[0m\u001b[37m\u001b[0m \u001b[1m4s\u001b[0m 79ms/step - accuracy: 0.9620 - loss: 0.3751 - val_accuracy: 0.9000 - val_loss: 0.5196\n",
      "Epoch 43/100\n",
      "\u001b[1m51/51\u001b[0m \u001b[32m━━━━━━━━━━━━━━━━━━━━\u001b[0m\u001b[37m\u001b[0m \u001b[1m4s\u001b[0m 79ms/step - accuracy: 0.9438 - loss: 0.3913 - val_accuracy: 0.8907 - val_loss: 0.5568\n",
      "Epoch 44/100\n",
      "\u001b[1m51/51\u001b[0m \u001b[32m━━━━━━━━━━━━━━━━━━━━\u001b[0m\u001b[37m\u001b[0m \u001b[1m4s\u001b[0m 81ms/step - accuracy: 0.9547 - loss: 0.3710 - val_accuracy: 0.8944 - val_loss: 0.5322\n",
      "Epoch 45/100\n",
      "\u001b[1m51/51\u001b[0m \u001b[32m━━━━━━━━━━━━━━━━━━━━\u001b[0m\u001b[37m\u001b[0m \u001b[1m4s\u001b[0m 77ms/step - accuracy: 0.9563 - loss: 0.3672 - val_accuracy: 0.8870 - val_loss: 0.5357\n",
      "Epoch 46/100\n",
      "\u001b[1m51/51\u001b[0m \u001b[32m━━━━━━━━━━━━━━━━━━━━\u001b[0m\u001b[37m\u001b[0m \u001b[1m4s\u001b[0m 76ms/step - accuracy: 0.9612 - loss: 0.3658 - val_accuracy: 0.9000 - val_loss: 0.5098\n",
      "Epoch 47/100\n",
      "\u001b[1m51/51\u001b[0m \u001b[32m━━━━━━━━━━━━━━━━━━━━\u001b[0m\u001b[37m\u001b[0m \u001b[1m4s\u001b[0m 76ms/step - accuracy: 0.9608 - loss: 0.3625 - val_accuracy: 0.8944 - val_loss: 0.5221\n",
      "Epoch 48/100\n",
      "\u001b[1m51/51\u001b[0m \u001b[32m━━━━━━━━━━━━━━━━━━━━\u001b[0m\u001b[37m\u001b[0m \u001b[1m4s\u001b[0m 78ms/step - accuracy: 0.9650 - loss: 0.3555 - val_accuracy: 0.9037 - val_loss: 0.4966\n",
      "Epoch 49/100\n",
      "\u001b[1m51/51\u001b[0m \u001b[32m━━━━━━━━━━━━━━━━━━━━\u001b[0m\u001b[37m\u001b[0m \u001b[1m4s\u001b[0m 77ms/step - accuracy: 0.9659 - loss: 0.3451 - val_accuracy: 0.8991 - val_loss: 0.5135\n",
      "Epoch 50/100\n",
      "\u001b[1m51/51\u001b[0m \u001b[32m━━━━━━━━━━━━━━━━━━━━\u001b[0m\u001b[37m\u001b[0m \u001b[1m4s\u001b[0m 77ms/step - accuracy: 0.9719 - loss: 0.3390 - val_accuracy: 0.8917 - val_loss: 0.5169\n",
      "Epoch 51/100\n",
      "\u001b[1m51/51\u001b[0m \u001b[32m━━━━━━━━━━━━━━━━━━━━\u001b[0m\u001b[37m\u001b[0m \u001b[1m4s\u001b[0m 75ms/step - accuracy: 0.9699 - loss: 0.3408 - val_accuracy: 0.8917 - val_loss: 0.5244\n",
      "Epoch 52/100\n",
      "\u001b[1m51/51\u001b[0m \u001b[32m━━━━━━━━━━━━━━━━━━━━\u001b[0m\u001b[37m\u001b[0m \u001b[1m4s\u001b[0m 76ms/step - accuracy: 0.9693 - loss: 0.3299 - val_accuracy: 0.9037 - val_loss: 0.5144\n",
      "Epoch 53/100\n",
      "\u001b[1m51/51\u001b[0m \u001b[32m━━━━━━━━━━━━━━━━━━━━\u001b[0m\u001b[37m\u001b[0m \u001b[1m4s\u001b[0m 75ms/step - accuracy: 0.9746 - loss: 0.3238 - val_accuracy: 0.9000 - val_loss: 0.5104\n",
      "Epoch 54/100\n",
      "\u001b[1m51/51\u001b[0m \u001b[32m━━━━━━━━━━━━━━━━━━━━\u001b[0m\u001b[37m\u001b[0m \u001b[1m4s\u001b[0m 75ms/step - accuracy: 0.9829 - loss: 0.3058 - val_accuracy: 0.8898 - val_loss: 0.5373\n",
      "Epoch 55/100\n",
      "\u001b[1m51/51\u001b[0m \u001b[32m━━━━━━━━━━━━━━━━━━━━\u001b[0m\u001b[37m\u001b[0m \u001b[1m4s\u001b[0m 75ms/step - accuracy: 0.9704 - loss: 0.3388 - val_accuracy: 0.8917 - val_loss: 0.5150\n",
      "Epoch 56/100\n",
      "\u001b[1m51/51\u001b[0m \u001b[32m━━━━━━━━━━━━━━━━━━━━\u001b[0m\u001b[37m\u001b[0m \u001b[1m4s\u001b[0m 79ms/step - accuracy: 0.9758 - loss: 0.3123 - val_accuracy: 0.8889 - val_loss: 0.5510\n",
      "Epoch 57/100\n",
      "\u001b[1m51/51\u001b[0m \u001b[32m━━━━━━━━━━━━━━━━━━━━\u001b[0m\u001b[37m\u001b[0m \u001b[1m4s\u001b[0m 81ms/step - accuracy: 0.9782 - loss: 0.3081 - val_accuracy: 0.8963 - val_loss: 0.5067\n",
      "Epoch 58/100\n",
      "\u001b[1m51/51\u001b[0m \u001b[32m━━━━━━━━━━━━━━━━━━━━\u001b[0m\u001b[37m\u001b[0m \u001b[1m4s\u001b[0m 78ms/step - accuracy: 0.9837 - loss: 0.2999 - val_accuracy: 0.8852 - val_loss: 0.5167\n",
      "Epoch 59/100\n",
      "\u001b[1m51/51\u001b[0m \u001b[32m━━━━━━━━━━━━━━━━━━━━\u001b[0m\u001b[37m\u001b[0m \u001b[1m4s\u001b[0m 78ms/step - accuracy: 0.9725 - loss: 0.3125 - val_accuracy: 0.8917 - val_loss: 0.5019\n",
      "Epoch 60/100\n",
      "\u001b[1m51/51\u001b[0m \u001b[32m━━━━━━━━━━━━━━━━━━━━\u001b[0m\u001b[37m\u001b[0m \u001b[1m4s\u001b[0m 78ms/step - accuracy: 0.9787 - loss: 0.3144 - val_accuracy: 0.9000 - val_loss: 0.5126\n",
      "Epoch 61/100\n",
      "\u001b[1m51/51\u001b[0m \u001b[32m━━━━━━━━━━━━━━━━━━━━\u001b[0m\u001b[37m\u001b[0m \u001b[1m4s\u001b[0m 80ms/step - accuracy: 0.9826 - loss: 0.3024 - val_accuracy: 0.8917 - val_loss: 0.5069\n",
      "Epoch 62/100\n",
      "\u001b[1m51/51\u001b[0m \u001b[32m━━━━━━━━━━━━━━━━━━━━\u001b[0m\u001b[37m\u001b[0m \u001b[1m4s\u001b[0m 81ms/step - accuracy: 0.9858 - loss: 0.2934 - val_accuracy: 0.8954 - val_loss: 0.4919\n",
      "Epoch 63/100\n",
      "\u001b[1m51/51\u001b[0m \u001b[32m━━━━━━━━━━━━━━━━━━━━\u001b[0m\u001b[37m\u001b[0m \u001b[1m4s\u001b[0m 78ms/step - accuracy: 0.9827 - loss: 0.2992 - val_accuracy: 0.8806 - val_loss: 0.5450\n",
      "Epoch 64/100\n",
      "\u001b[1m51/51\u001b[0m \u001b[32m━━━━━━━━━━━━━━━━━━━━\u001b[0m\u001b[37m\u001b[0m \u001b[1m4s\u001b[0m 83ms/step - accuracy: 0.9823 - loss: 0.2871 - val_accuracy: 0.8981 - val_loss: 0.5198\n",
      "Epoch 65/100\n",
      "\u001b[1m51/51\u001b[0m \u001b[32m━━━━━━━━━━━━━━━━━━━━\u001b[0m\u001b[37m\u001b[0m \u001b[1m4s\u001b[0m 79ms/step - accuracy: 0.9819 - loss: 0.2850 - val_accuracy: 0.9019 - val_loss: 0.4842\n",
      "Epoch 66/100\n",
      "\u001b[1m51/51\u001b[0m \u001b[32m━━━━━━━━━━━━━━━━━━━━\u001b[0m\u001b[37m\u001b[0m \u001b[1m4s\u001b[0m 80ms/step - accuracy: 0.9864 - loss: 0.2812 - val_accuracy: 0.9009 - val_loss: 0.4904\n",
      "Epoch 67/100\n",
      "\u001b[1m51/51\u001b[0m \u001b[32m━━━━━━━━━━━━━━━━━━━━\u001b[0m\u001b[37m\u001b[0m \u001b[1m4s\u001b[0m 84ms/step - accuracy: 0.9863 - loss: 0.2815 - val_accuracy: 0.9000 - val_loss: 0.5069\n",
      "Epoch 68/100\n",
      "\u001b[1m51/51\u001b[0m \u001b[32m━━━━━━━━━━━━━━━━━━━━\u001b[0m\u001b[37m\u001b[0m \u001b[1m4s\u001b[0m 83ms/step - accuracy: 0.9848 - loss: 0.2821 - val_accuracy: 0.8963 - val_loss: 0.4978\n",
      "Epoch 69/100\n",
      "\u001b[1m51/51\u001b[0m \u001b[32m━━━━━━━━━━━━━━━━━━━━\u001b[0m\u001b[37m\u001b[0m \u001b[1m4s\u001b[0m 78ms/step - accuracy: 0.9842 - loss: 0.2844 - val_accuracy: 0.9093 - val_loss: 0.4793\n",
      "Epoch 70/100\n",
      "\u001b[1m51/51\u001b[0m \u001b[32m━━━━━━━━━━━━━━━━━━━━\u001b[0m\u001b[37m\u001b[0m \u001b[1m4s\u001b[0m 79ms/step - accuracy: 0.9868 - loss: 0.2813 - val_accuracy: 0.8963 - val_loss: 0.5134\n",
      "Epoch 71/100\n",
      "\u001b[1m51/51\u001b[0m \u001b[32m━━━━━━━━━━━━━━━━━━━━\u001b[0m\u001b[37m\u001b[0m \u001b[1m4s\u001b[0m 82ms/step - accuracy: 0.9791 - loss: 0.2907 - val_accuracy: 0.9056 - val_loss: 0.4709\n",
      "Epoch 72/100\n",
      "\u001b[1m51/51\u001b[0m \u001b[32m━━━━━━━━━━━━━━━━━━━━\u001b[0m\u001b[37m\u001b[0m \u001b[1m4s\u001b[0m 83ms/step - accuracy: 0.9860 - loss: 0.2798 - val_accuracy: 0.8843 - val_loss: 0.5273\n",
      "Epoch 73/100\n",
      "\u001b[1m51/51\u001b[0m \u001b[32m━━━━━━━━━━━━━━━━━━━━\u001b[0m\u001b[37m\u001b[0m \u001b[1m4s\u001b[0m 83ms/step - accuracy: 0.9855 - loss: 0.2869 - val_accuracy: 0.8926 - val_loss: 0.4999\n",
      "Epoch 74/100\n",
      "\u001b[1m51/51\u001b[0m \u001b[32m━━━━━━━━━━━━━━━━━━━━\u001b[0m\u001b[37m\u001b[0m \u001b[1m4s\u001b[0m 88ms/step - accuracy: 0.9897 - loss: 0.2779 - val_accuracy: 0.8926 - val_loss: 0.5128\n",
      "Epoch 75/100\n",
      "\u001b[1m51/51\u001b[0m \u001b[32m━━━━━━━━━━━━━━━━━━━━\u001b[0m\u001b[37m\u001b[0m \u001b[1m4s\u001b[0m 83ms/step - accuracy: 0.9866 - loss: 0.2769 - val_accuracy: 0.8963 - val_loss: 0.4989\n",
      "Epoch 76/100\n",
      "\u001b[1m51/51\u001b[0m \u001b[32m━━━━━━━━━━━━━━━━━━━━\u001b[0m\u001b[37m\u001b[0m \u001b[1m4s\u001b[0m 81ms/step - accuracy: 0.9875 - loss: 0.2678 - val_accuracy: 0.8926 - val_loss: 0.5035\n",
      "Epoch 77/100\n",
      "\u001b[1m51/51\u001b[0m \u001b[32m━━━━━━━━━━━━━━━━━━━━\u001b[0m\u001b[37m\u001b[0m \u001b[1m4s\u001b[0m 83ms/step - accuracy: 0.9897 - loss: 0.2582 - val_accuracy: 0.9046 - val_loss: 0.4485\n",
      "Epoch 78/100\n",
      "\u001b[1m51/51\u001b[0m \u001b[32m━━━━━━━━━━━━━━━━━━━━\u001b[0m\u001b[37m\u001b[0m \u001b[1m4s\u001b[0m 81ms/step - accuracy: 0.9901 - loss: 0.2670 - val_accuracy: 0.8926 - val_loss: 0.5262\n",
      "Epoch 79/100\n",
      "\u001b[1m51/51\u001b[0m \u001b[32m━━━━━━━━━━━━━━━━━━━━\u001b[0m\u001b[37m\u001b[0m \u001b[1m4s\u001b[0m 79ms/step - accuracy: 0.9858 - loss: 0.2709 - val_accuracy: 0.8954 - val_loss: 0.4904\n",
      "Epoch 80/100\n",
      "\u001b[1m51/51\u001b[0m \u001b[32m━━━━━━━━━━━━━━━━━━━━\u001b[0m\u001b[37m\u001b[0m \u001b[1m4s\u001b[0m 81ms/step - accuracy: 0.9914 - loss: 0.2656 - val_accuracy: 0.8972 - val_loss: 0.4956\n",
      "Epoch 81/100\n",
      "\u001b[1m51/51\u001b[0m \u001b[32m━━━━━━━━━━━━━━━━━━━━\u001b[0m\u001b[37m\u001b[0m \u001b[1m4s\u001b[0m 82ms/step - accuracy: 0.9878 - loss: 0.2683 - val_accuracy: 0.9028 - val_loss: 0.4699\n",
      "Epoch 82/100\n",
      "\u001b[1m51/51\u001b[0m \u001b[32m━━━━━━━━━━━━━━━━━━━━\u001b[0m\u001b[37m\u001b[0m \u001b[1m4s\u001b[0m 83ms/step - accuracy: 0.9889 - loss: 0.2628 - val_accuracy: 0.8935 - val_loss: 0.4891\n",
      "Epoch 83/100\n",
      "\u001b[1m51/51\u001b[0m \u001b[32m━━━━━━━━━━━━━━━━━━━━\u001b[0m\u001b[37m\u001b[0m \u001b[1m4s\u001b[0m 83ms/step - accuracy: 0.9861 - loss: 0.2700 - val_accuracy: 0.9009 - val_loss: 0.4906\n",
      "Epoch 84/100\n",
      "\u001b[1m51/51\u001b[0m \u001b[32m━━━━━━━━━━━━━━━━━━━━\u001b[0m\u001b[37m\u001b[0m \u001b[1m4s\u001b[0m 85ms/step - accuracy: 0.9817 - loss: 0.2695 - val_accuracy: 0.8907 - val_loss: 0.5000\n",
      "Epoch 85/100\n",
      "\u001b[1m51/51\u001b[0m \u001b[32m━━━━━━━━━━━━━━━━━━━━\u001b[0m\u001b[37m\u001b[0m \u001b[1m4s\u001b[0m 83ms/step - accuracy: 0.9894 - loss: 0.2578 - val_accuracy: 0.8870 - val_loss: 0.5226\n",
      "Epoch 86/100\n",
      "\u001b[1m51/51\u001b[0m \u001b[32m━━━━━━━━━━━━━━━━━━━━\u001b[0m\u001b[37m\u001b[0m \u001b[1m4s\u001b[0m 80ms/step - accuracy: 0.9931 - loss: 0.2511 - val_accuracy: 0.9037 - val_loss: 0.4781\n",
      "Epoch 87/100\n",
      "\u001b[1m51/51\u001b[0m \u001b[32m━━━━━━━━━━━━━━━━━━━━\u001b[0m\u001b[37m\u001b[0m \u001b[1m4s\u001b[0m 78ms/step - accuracy: 0.9912 - loss: 0.2529 - val_accuracy: 0.8861 - val_loss: 0.5026\n",
      "Epoch 88/100\n",
      "\u001b[1m51/51\u001b[0m \u001b[32m━━━━━━━━━━━━━━━━━━━━\u001b[0m\u001b[37m\u001b[0m \u001b[1m4s\u001b[0m 80ms/step - accuracy: 0.9843 - loss: 0.2587 - val_accuracy: 0.8880 - val_loss: 0.5138\n",
      "Epoch 89/100\n",
      "\u001b[1m51/51\u001b[0m \u001b[32m━━━━━━━━━━━━━━━━━━━━\u001b[0m\u001b[37m\u001b[0m \u001b[1m4s\u001b[0m 78ms/step - accuracy: 0.9902 - loss: 0.2599 - val_accuracy: 0.9065 - val_loss: 0.4856\n",
      "Epoch 90/100\n",
      "\u001b[1m51/51\u001b[0m \u001b[32m━━━━━━━━━━━━━━━━━━━━\u001b[0m\u001b[37m\u001b[0m \u001b[1m4s\u001b[0m 81ms/step - accuracy: 0.9954 - loss: 0.2486 - val_accuracy: 0.8926 - val_loss: 0.4900\n",
      "Epoch 91/100\n",
      "\u001b[1m51/51\u001b[0m \u001b[32m━━━━━━━━━━━━━━━━━━━━\u001b[0m\u001b[37m\u001b[0m \u001b[1m4s\u001b[0m 78ms/step - accuracy: 0.9939 - loss: 0.2483 - val_accuracy: 0.9065 - val_loss: 0.4796\n",
      "Epoch 92/100\n",
      "\u001b[1m51/51\u001b[0m \u001b[32m━━━━━━━━━━━━━━━━━━━━\u001b[0m\u001b[37m\u001b[0m \u001b[1m4s\u001b[0m 78ms/step - accuracy: 0.9888 - loss: 0.2520 - val_accuracy: 0.8880 - val_loss: 0.4991\n",
      "Epoch 93/100\n",
      "\u001b[1m51/51\u001b[0m \u001b[32m━━━━━━━━━━━━━━━━━━━━\u001b[0m\u001b[37m\u001b[0m \u001b[1m4s\u001b[0m 78ms/step - accuracy: 0.9911 - loss: 0.2505 - val_accuracy: 0.8954 - val_loss: 0.4754\n",
      "Epoch 94/100\n",
      "\u001b[1m51/51\u001b[0m \u001b[32m━━━━━━━━━━━━━━━━━━━━\u001b[0m\u001b[37m\u001b[0m \u001b[1m4s\u001b[0m 79ms/step - accuracy: 0.9925 - loss: 0.2445 - val_accuracy: 0.8991 - val_loss: 0.5018\n",
      "Epoch 95/100\n",
      "\u001b[1m51/51\u001b[0m \u001b[32m━━━━━━━━━━━━━━━━━━━━\u001b[0m\u001b[37m\u001b[0m \u001b[1m4s\u001b[0m 78ms/step - accuracy: 0.9939 - loss: 0.2409 - val_accuracy: 0.9019 - val_loss: 0.4912\n",
      "Epoch 96/100\n",
      "\u001b[1m51/51\u001b[0m \u001b[32m━━━━━━━━━━━━━━━━━━━━\u001b[0m\u001b[37m\u001b[0m \u001b[1m4s\u001b[0m 78ms/step - accuracy: 0.9949 - loss: 0.2356 - val_accuracy: 0.9093 - val_loss: 0.4833\n",
      "Epoch 97/100\n",
      "\u001b[1m51/51\u001b[0m \u001b[32m━━━━━━━━━━━━━━━━━━━━\u001b[0m\u001b[37m\u001b[0m \u001b[1m4s\u001b[0m 80ms/step - accuracy: 0.9935 - loss: 0.2411 - val_accuracy: 0.8991 - val_loss: 0.4674\n",
      "Epoch 98/100\n",
      "\u001b[1m51/51\u001b[0m \u001b[32m━━━━━━━━━━━━━━━━━━━━\u001b[0m\u001b[37m\u001b[0m \u001b[1m4s\u001b[0m 87ms/step - accuracy: 0.9936 - loss: 0.2348 - val_accuracy: 0.9102 - val_loss: 0.4667\n",
      "Epoch 99/100\n",
      "\u001b[1m51/51\u001b[0m \u001b[32m━━━━━━━━━━━━━━━━━━━━\u001b[0m\u001b[37m\u001b[0m \u001b[1m4s\u001b[0m 86ms/step - accuracy: 0.9946 - loss: 0.2373 - val_accuracy: 0.8935 - val_loss: 0.4928\n",
      "Epoch 100/100\n",
      "\u001b[1m51/51\u001b[0m \u001b[32m━━━━━━━━━━━━━━━━━━━━\u001b[0m\u001b[37m\u001b[0m \u001b[1m4s\u001b[0m 87ms/step - accuracy: 0.9915 - loss: 0.2430 - val_accuracy: 0.8917 - val_loss: 0.4908\n"
     ]
    }
   ],
   "source": [
    "XProccessed = np.expand_dims(x_train, axis=2)\n",
    "XTestProcessed = np.expand_dims(x_test, axis=2)\n",
    "history = model.fit(XProccessed, y_train, epochs=100, validation_data=(XTestProcessed, y_test), batch_size=64)"
   ]
  },
  {
   "cell_type": "code",
   "execution_count": 224,
   "id": "2234c248-870d-4cec-9b54-2f50e1af03e6",
   "metadata": {},
   "outputs": [
    {
     "name": "stdout",
     "output_type": "stream",
     "text": [
      "Training Accuracy: 0.9907407164573669\n",
      "Validation Accuracy: 0.8916666507720947\n"
     ]
    }
   ],
   "source": [
    "# After training your model\n",
    "print(\"Training Accuracy:\", history.history['accuracy'][-1])  # Final training accuracy\n",
    "print(\"Validation Accuracy:\", history.history['val_accuracy'][-1])  # Final validation accuracy\n"
   ]
  },
  {
   "cell_type": "markdown",
   "id": "a44780a2-51d7-4367-a657-469faf0716f6",
   "metadata": {},
   "source": [
    "<h1>Model evaluation</h1>\n",
    "<ol>\n",
    "  <li>Plot learning curve</li>\n",
    "  <li>Calculate F1 score</li>\n",
    "</ol>\n",
    "\n",
    "<h4>Plot the learning curve of the model with its accuracy</h4>"
   ]
  },
  {
   "cell_type": "code",
   "execution_count": 132,
   "id": "e9077c06-d91b-4d48-93fa-08f4675265c2",
   "metadata": {},
   "outputs": [
    {
     "data": {
      "image/png": "[encoded data removed]",
      "text/plain": [
       "<Figure size 640x480 with 1 Axes>"
      ]
     },
     "metadata": {},
     "output_type": "display_data"
    }
   ],
   "source": [
    "plt.plot(history.history['accuracy'])\n",
    "plt.plot(history.history['val_accuracy'])\n",
    "plt.title('Model accuracy')\n",
    "plt.ylabel('Accuracy')\n",
    "plt.xlabel('Epoch')\n",
    "plt.legend(['Train', 'Val'], loc='upper left')\n",
    "plt.show()"
   ]
  },
  {
   "cell_type": "code",
   "execution_count": 133,
   "id": "432974d4-8557-4679-962b-53487b41aed6",
   "metadata": {},
   "outputs": [
    {
     "data": {
      "image/png": "[encoded data removed]",
      "text/plain": [
       "<Figure size 640x480 with 1 Axes>"
      ]
     },
     "metadata": {},
     "output_type": "display_data"
    }
   ],
   "source": [
    "plt.plot(history.history['loss'])\n",
    "plt.plot(history.history['val_loss'])\n",
    "plt.title('Model Loss')\n",
    "plt.ylabel('Loss')\n",
    "plt.xlabel('Epoch')\n",
    "plt.legend(['Train', 'Val'], loc='upper left')\n",
    "plt.show()"
   ]
  },
  {
   "cell_type": "markdown",
   "id": "e4abc2f2-cf59-495c-a7e2-4dbee3a97093",
   "metadata": {},
   "source": [
    "<h5><b>Use the test data to do prediction<b></h5>"
   ]
  },
  {
   "cell_type": "code",
   "execution_count": 138,
   "id": "e3111e40-7bfe-478f-907b-c6aad857905b",
   "metadata": {},
   "outputs": [
    {
     "name": "stdout",
     "output_type": "stream",
     "text": [
      "\u001b[1m34/34\u001b[0m \u001b[32m━━━━━━━━━━━━━━━━━━━━\u001b[0m\u001b[37m\u001b[0m \u001b[1m0s\u001b[0m 9ms/step\n"
     ]
    },
    {
     "data": {
      "text/plain": [
       "array([[1.07733875e-04, 9.98165488e-01, 1.20928540e-04, ...,\n",
       "        1.69078135e-06, 1.45241487e-04, 2.52988189e-04],\n",
       "       [1.01752556e-03, 2.32261125e-04, 1.23646576e-03, ...,\n",
       "        2.28212986e-04, 9.86927211e-01, 1.77907292e-04],\n",
       "       [1.11926794e-02, 8.75086337e-03, 3.06477945e-04, ...,\n",
       "        2.80771971e-01, 1.72085315e-02, 3.96531224e-02],\n",
       "       ...,\n",
       "       [6.88671833e-04, 1.17600874e-04, 3.34106298e-04, ...,\n",
       "        1.77427381e-03, 2.20425747e-04, 1.72826415e-03],\n",
       "       [9.99919832e-01, 1.41871590e-06, 6.10091888e-07, ...,\n",
       "        1.03826815e-05, 2.18560058e-06, 6.13067677e-05],\n",
       "       [4.06275431e-05, 4.79120536e-05, 1.51544828e-05, ...,\n",
       "        1.02673992e-04, 2.30345715e-04, 1.14546083e-05]], dtype=float32)"
      ]
     },
     "execution_count": 138,
     "metadata": {},
     "output_type": "execute_result"
    }
   ],
   "source": [
    "y_pred = model.predict(XTestProcessed)\n"
   ]
  },
  {
   "cell_type": "markdown",
   "id": "664ab718-6fb3-46ac-9dca-ddda8395220d",
   "metadata": {},
   "source": [
    "<h5><b>Calculate the F1 score of the model<b></h5>\n",
    "<h6>F1 score is a measure of a test's accuracy. F1 score combines precision and recall relative to a specific positive class - The F1 score can be interpreted as a weighted average of the precision and recall, where an F1 score reaches its best value at 1 and worst at 0</h6>"
   ]
  },
  {
   "cell_type": "markdown",
   "id": "61c376fc-8d64-46d4-9227-f67b279a7e1d",
   "metadata": {},
   "source": [
    "<h3>Model Summary</h3>"
   ]
  },
  {
   "cell_type": "code",
   "execution_count": 140,
   "id": "5eea3791-5fc2-4080-be2e-c1044442bd42",
   "metadata": {},
   "outputs": [
    {
     "data": {
      "text/html": [
       "<pre style=\"white-space:pre;overflow-x:auto;line-height:normal;font-family:Menlo,'DejaVu Sans Mono',consolas,'Courier New',monospace\"><span style=\"font-weight: bold\">Model: \"sequential_21\"</span>\n",
       "</pre>\n"
      ],
      "text/plain": [
       "\u001b[1mModel: \"sequential_21\"\u001b[0m\n"
      ]
     },
     "metadata": {},
     "output_type": "display_data"
    },
    {
     "data": {
      "text/html": [
       "<pre style=\"white-space:pre;overflow-x:auto;line-height:normal;font-family:Menlo,'DejaVu Sans Mono',consolas,'Courier New',monospace\">┏━━━━━━━━━━━━━━━━━━━━━━━━━━━━━━━━━┳━━━━━━━━━━━━━━━━━━━━━━━━┳━━━━━━━━━━━━━━━┓\n",
       "┃<span style=\"font-weight: bold\"> Layer (type)                    </span>┃<span style=\"font-weight: bold\"> Output Shape           </span>┃<span style=\"font-weight: bold\">       Param # </span>┃\n",
       "┡━━━━━━━━━━━━━━━━━━━━━━━━━━━━━━━━━╇━━━━━━━━━━━━━━━━━━━━━━━━╇━━━━━━━━━━━━━━━┩\n",
       "│ conv1d_84 (<span style=\"color: #0087ff; text-decoration-color: #0087ff\">Conv1D</span>)              │ (<span style=\"color: #00d7ff; text-decoration-color: #00d7ff\">None</span>, <span style=\"color: #00af00; text-decoration-color: #00af00\">180</span>, <span style=\"color: #00af00; text-decoration-color: #00af00\">256</span>)       │         <span style=\"color: #00af00; text-decoration-color: #00af00\">1,536</span> │\n",
       "├─────────────────────────────────┼────────────────────────┼───────────────┤\n",
       "│ activation_105 (<span style=\"color: #0087ff; text-decoration-color: #0087ff\">Activation</span>)     │ (<span style=\"color: #00d7ff; text-decoration-color: #00d7ff\">None</span>, <span style=\"color: #00af00; text-decoration-color: #00af00\">180</span>, <span style=\"color: #00af00; text-decoration-color: #00af00\">256</span>)       │             <span style=\"color: #00af00; text-decoration-color: #00af00\">0</span> │\n",
       "├─────────────────────────────────┼────────────────────────┼───────────────┤\n",
       "│ conv1d_85 (<span style=\"color: #0087ff; text-decoration-color: #0087ff\">Conv1D</span>)              │ (<span style=\"color: #00d7ff; text-decoration-color: #00d7ff\">None</span>, <span style=\"color: #00af00; text-decoration-color: #00af00\">180</span>, <span style=\"color: #00af00; text-decoration-color: #00af00\">128</span>)       │       <span style=\"color: #00af00; text-decoration-color: #00af00\">163,968</span> │\n",
       "├─────────────────────────────────┼────────────────────────┼───────────────┤\n",
       "│ activation_106 (<span style=\"color: #0087ff; text-decoration-color: #0087ff\">Activation</span>)     │ (<span style=\"color: #00d7ff; text-decoration-color: #00d7ff\">None</span>, <span style=\"color: #00af00; text-decoration-color: #00af00\">180</span>, <span style=\"color: #00af00; text-decoration-color: #00af00\">128</span>)       │             <span style=\"color: #00af00; text-decoration-color: #00af00\">0</span> │\n",
       "├─────────────────────────────────┼────────────────────────┼───────────────┤\n",
       "│ dropout_42 (<span style=\"color: #0087ff; text-decoration-color: #0087ff\">Dropout</span>)            │ (<span style=\"color: #00d7ff; text-decoration-color: #00d7ff\">None</span>, <span style=\"color: #00af00; text-decoration-color: #00af00\">180</span>, <span style=\"color: #00af00; text-decoration-color: #00af00\">128</span>)       │             <span style=\"color: #00af00; text-decoration-color: #00af00\">0</span> │\n",
       "├─────────────────────────────────┼────────────────────────┼───────────────┤\n",
       "│ max_pooling1d_21 (<span style=\"color: #0087ff; text-decoration-color: #0087ff\">MaxPooling1D</span>) │ (<span style=\"color: #00d7ff; text-decoration-color: #00d7ff\">None</span>, <span style=\"color: #00af00; text-decoration-color: #00af00\">22</span>, <span style=\"color: #00af00; text-decoration-color: #00af00\">128</span>)        │             <span style=\"color: #00af00; text-decoration-color: #00af00\">0</span> │\n",
       "├─────────────────────────────────┼────────────────────────┼───────────────┤\n",
       "│ conv1d_86 (<span style=\"color: #0087ff; text-decoration-color: #0087ff\">Conv1D</span>)              │ (<span style=\"color: #00d7ff; text-decoration-color: #00d7ff\">None</span>, <span style=\"color: #00af00; text-decoration-color: #00af00\">22</span>, <span style=\"color: #00af00; text-decoration-color: #00af00\">128</span>)        │        <span style=\"color: #00af00; text-decoration-color: #00af00\">82,048</span> │\n",
       "├─────────────────────────────────┼────────────────────────┼───────────────┤\n",
       "│ activation_107 (<span style=\"color: #0087ff; text-decoration-color: #0087ff\">Activation</span>)     │ (<span style=\"color: #00d7ff; text-decoration-color: #00d7ff\">None</span>, <span style=\"color: #00af00; text-decoration-color: #00af00\">22</span>, <span style=\"color: #00af00; text-decoration-color: #00af00\">128</span>)        │             <span style=\"color: #00af00; text-decoration-color: #00af00\">0</span> │\n",
       "├─────────────────────────────────┼────────────────────────┼───────────────┤\n",
       "│ conv1d_87 (<span style=\"color: #0087ff; text-decoration-color: #0087ff\">Conv1D</span>)              │ (<span style=\"color: #00d7ff; text-decoration-color: #00d7ff\">None</span>, <span style=\"color: #00af00; text-decoration-color: #00af00\">22</span>, <span style=\"color: #00af00; text-decoration-color: #00af00\">128</span>)        │        <span style=\"color: #00af00; text-decoration-color: #00af00\">82,048</span> │\n",
       "├─────────────────────────────────┼────────────────────────┼───────────────┤\n",
       "│ activation_108 (<span style=\"color: #0087ff; text-decoration-color: #0087ff\">Activation</span>)     │ (<span style=\"color: #00d7ff; text-decoration-color: #00d7ff\">None</span>, <span style=\"color: #00af00; text-decoration-color: #00af00\">22</span>, <span style=\"color: #00af00; text-decoration-color: #00af00\">128</span>)        │             <span style=\"color: #00af00; text-decoration-color: #00af00\">0</span> │\n",
       "├─────────────────────────────────┼────────────────────────┼───────────────┤\n",
       "│ dropout_43 (<span style=\"color: #0087ff; text-decoration-color: #0087ff\">Dropout</span>)            │ (<span style=\"color: #00d7ff; text-decoration-color: #00d7ff\">None</span>, <span style=\"color: #00af00; text-decoration-color: #00af00\">22</span>, <span style=\"color: #00af00; text-decoration-color: #00af00\">128</span>)        │             <span style=\"color: #00af00; text-decoration-color: #00af00\">0</span> │\n",
       "├─────────────────────────────────┼────────────────────────┼───────────────┤\n",
       "│ flatten_21 (<span style=\"color: #0087ff; text-decoration-color: #0087ff\">Flatten</span>)            │ (<span style=\"color: #00d7ff; text-decoration-color: #00d7ff\">None</span>, <span style=\"color: #00af00; text-decoration-color: #00af00\">2816</span>)           │             <span style=\"color: #00af00; text-decoration-color: #00af00\">0</span> │\n",
       "├─────────────────────────────────┼────────────────────────┼───────────────┤\n",
       "│ dense_21 (<span style=\"color: #0087ff; text-decoration-color: #0087ff\">Dense</span>)                │ (<span style=\"color: #00d7ff; text-decoration-color: #00d7ff\">None</span>, <span style=\"color: #00af00; text-decoration-color: #00af00\">8</span>)              │        <span style=\"color: #00af00; text-decoration-color: #00af00\">22,536</span> │\n",
       "├─────────────────────────────────┼────────────────────────┼───────────────┤\n",
       "│ activation_109 (<span style=\"color: #0087ff; text-decoration-color: #0087ff\">Activation</span>)     │ (<span style=\"color: #00d7ff; text-decoration-color: #00d7ff\">None</span>, <span style=\"color: #00af00; text-decoration-color: #00af00\">8</span>)              │             <span style=\"color: #00af00; text-decoration-color: #00af00\">0</span> │\n",
       "└─────────────────────────────────┴────────────────────────┴───────────────┘\n",
       "</pre>\n"
      ],
      "text/plain": [
       "┏━━━━━━━━━━━━━━━━━━━━━━━━━━━━━━━━━┳━━━━━━━━━━━━━━━━━━━━━━━━┳━━━━━━━━━━━━━━━┓\n",
       "┃\u001b[1m \u001b[0m\u001b[1mLayer (type)                   \u001b[0m\u001b[1m \u001b[0m┃\u001b[1m \u001b[0m\u001b[1mOutput Shape          \u001b[0m\u001b[1m \u001b[0m┃\u001b[1m \u001b[0m\u001b[1m      Param #\u001b[0m\u001b[1m \u001b[0m┃\n",
       "┡━━━━━━━━━━━━━━━━━━━━━━━━━━━━━━━━━╇━━━━━━━━━━━━━━━━━━━━━━━━╇━━━━━━━━━━━━━━━┩\n",
       "│ conv1d_84 (\u001b[38;5;33mConv1D\u001b[0m)              │ (\u001b[38;5;45mNone\u001b[0m, \u001b[38;5;34m180\u001b[0m, \u001b[38;5;34m256\u001b[0m)       │         \u001b[38;5;34m1,536\u001b[0m │\n",
       "├─────────────────────────────────┼────────────────────────┼───────────────┤\n",
       "│ activation_105 (\u001b[38;5;33mActivation\u001b[0m)     │ (\u001b[38;5;45mNone\u001b[0m, \u001b[38;5;34m180\u001b[0m, \u001b[38;5;34m256\u001b[0m)       │             \u001b[38;5;34m0\u001b[0m │\n",
       "├─────────────────────────────────┼────────────────────────┼───────────────┤\n",
       "│ conv1d_85 (\u001b[38;5;33mConv1D\u001b[0m)              │ (\u001b[38;5;45mNone\u001b[0m, \u001b[38;5;34m180\u001b[0m, \u001b[38;5;34m128\u001b[0m)       │       \u001b[38;5;34m163,968\u001b[0m │\n",
       "├─────────────────────────────────┼────────────────────────┼───────────────┤\n",
       "│ activation_106 (\u001b[38;5;33mActivation\u001b[0m)     │ (\u001b[38;5;45mNone\u001b[0m, \u001b[38;5;34m180\u001b[0m, \u001b[38;5;34m128\u001b[0m)       │             \u001b[38;5;34m0\u001b[0m │\n",
       "├─────────────────────────────────┼────────────────────────┼───────────────┤\n",
       "│ dropout_42 (\u001b[38;5;33mDropout\u001b[0m)            │ (\u001b[38;5;45mNone\u001b[0m, \u001b[38;5;34m180\u001b[0m, \u001b[38;5;34m128\u001b[0m)       │             \u001b[38;5;34m0\u001b[0m │\n",
       "├─────────────────────────────────┼────────────────────────┼───────────────┤\n",
       "│ max_pooling1d_21 (\u001b[38;5;33mMaxPooling1D\u001b[0m) │ (\u001b[38;5;45mNone\u001b[0m, \u001b[38;5;34m22\u001b[0m, \u001b[38;5;34m128\u001b[0m)        │             \u001b[38;5;34m0\u001b[0m │\n",
       "├─────────────────────────────────┼────────────────────────┼───────────────┤\n",
       "│ conv1d_86 (\u001b[38;5;33mConv1D\u001b[0m)              │ (\u001b[38;5;45mNone\u001b[0m, \u001b[38;5;34m22\u001b[0m, \u001b[38;5;34m128\u001b[0m)        │        \u001b[38;5;34m82,048\u001b[0m │\n",
       "├─────────────────────────────────┼────────────────────────┼───────────────┤\n",
       "│ activation_107 (\u001b[38;5;33mActivation\u001b[0m)     │ (\u001b[38;5;45mNone\u001b[0m, \u001b[38;5;34m22\u001b[0m, \u001b[38;5;34m128\u001b[0m)        │             \u001b[38;5;34m0\u001b[0m │\n",
       "├─────────────────────────────────┼────────────────────────┼───────────────┤\n",
       "│ conv1d_87 (\u001b[38;5;33mConv1D\u001b[0m)              │ (\u001b[38;5;45mNone\u001b[0m, \u001b[38;5;34m22\u001b[0m, \u001b[38;5;34m128\u001b[0m)        │        \u001b[38;5;34m82,048\u001b[0m │\n",
       "├─────────────────────────────────┼────────────────────────┼───────────────┤\n",
       "│ activation_108 (\u001b[38;5;33mActivation\u001b[0m)     │ (\u001b[38;5;45mNone\u001b[0m, \u001b[38;5;34m22\u001b[0m, \u001b[38;5;34m128\u001b[0m)        │             \u001b[38;5;34m0\u001b[0m │\n",
       "├─────────────────────────────────┼────────────────────────┼───────────────┤\n",
       "│ dropout_43 (\u001b[38;5;33mDropout\u001b[0m)            │ (\u001b[38;5;45mNone\u001b[0m, \u001b[38;5;34m22\u001b[0m, \u001b[38;5;34m128\u001b[0m)        │             \u001b[38;5;34m0\u001b[0m │\n",
       "├─────────────────────────────────┼────────────────────────┼───────────────┤\n",
       "│ flatten_21 (\u001b[38;5;33mFlatten\u001b[0m)            │ (\u001b[38;5;45mNone\u001b[0m, \u001b[38;5;34m2816\u001b[0m)           │             \u001b[38;5;34m0\u001b[0m │\n",
       "├─────────────────────────────────┼────────────────────────┼───────────────┤\n",
       "│ dense_21 (\u001b[38;5;33mDense\u001b[0m)                │ (\u001b[38;5;45mNone\u001b[0m, \u001b[38;5;34m8\u001b[0m)              │        \u001b[38;5;34m22,536\u001b[0m │\n",
       "├─────────────────────────────────┼────────────────────────┼───────────────┤\n",
       "│ activation_109 (\u001b[38;5;33mActivation\u001b[0m)     │ (\u001b[38;5;45mNone\u001b[0m, \u001b[38;5;34m8\u001b[0m)              │             \u001b[38;5;34m0\u001b[0m │\n",
       "└─────────────────────────────────┴────────────────────────┴───────────────┘\n"
      ]
     },
     "metadata": {},
     "output_type": "display_data"
    },
    {
     "data": {
      "text/html": [
       "<pre style=\"white-space:pre;overflow-x:auto;line-height:normal;font-family:Menlo,'DejaVu Sans Mono',consolas,'Courier New',monospace\"><span style=\"font-weight: bold\"> Total params: </span><span style=\"color: #00af00; text-decoration-color: #00af00\">1,056,410</span> (4.03 MB)\n",
       "</pre>\n"
      ],
      "text/plain": [
       "\u001b[1m Total params: \u001b[0m\u001b[38;5;34m1,056,410\u001b[0m (4.03 MB)\n"
      ]
     },
     "metadata": {},
     "output_type": "display_data"
    },
    {
     "data": {
      "text/html": [
       "<pre style=\"white-space:pre;overflow-x:auto;line-height:normal;font-family:Menlo,'DejaVu Sans Mono',consolas,'Courier New',monospace\"><span style=\"font-weight: bold\"> Trainable params: </span><span style=\"color: #00af00; text-decoration-color: #00af00\">352,136</span> (1.34 MB)\n",
       "</pre>\n"
      ],
      "text/plain": [
       "\u001b[1m Trainable params: \u001b[0m\u001b[38;5;34m352,136\u001b[0m (1.34 MB)\n"
      ]
     },
     "metadata": {},
     "output_type": "display_data"
    },
    {
     "data": {
      "text/html": [
       "<pre style=\"white-space:pre;overflow-x:auto;line-height:normal;font-family:Menlo,'DejaVu Sans Mono',consolas,'Courier New',monospace\"><span style=\"font-weight: bold\"> Non-trainable params: </span><span style=\"color: #00af00; text-decoration-color: #00af00\">0</span> (0.00 B)\n",
       "</pre>\n"
      ],
      "text/plain": [
       "\u001b[1m Non-trainable params: \u001b[0m\u001b[38;5;34m0\u001b[0m (0.00 B)\n"
      ]
     },
     "metadata": {},
     "output_type": "display_data"
    },
    {
     "data": {
      "text/html": [
       "<pre style=\"white-space:pre;overflow-x:auto;line-height:normal;font-family:Menlo,'DejaVu Sans Mono',consolas,'Courier New',monospace\"><span style=\"font-weight: bold\"> Optimizer params: </span><span style=\"color: #00af00; text-decoration-color: #00af00\">704,274</span> (2.69 MB)\n",
       "</pre>\n"
      ],
      "text/plain": [
       "\u001b[1m Optimizer params: \u001b[0m\u001b[38;5;34m704,274\u001b[0m (2.69 MB)\n"
      ]
     },
     "metadata": {},
     "output_type": "display_data"
    }
   ],
   "source": [
    "model.summary()"
   ]
  },
  {
   "cell_type": "code",
   "execution_count": 157,
   "id": "73d01040-0d13-414c-a323-795ed9f8cc7c",
   "metadata": {},
   "outputs": [
    {
     "data": {
      "text/plain": [
       "0.8909191272676648"
      ]
     },
     "execution_count": 157,
     "metadata": {},
     "output_type": "execute_result"
    }
   ],
   "source": [
    "f1_score(y_test,np.argmax(y_pred,axis=-1),average='weighted')"
   ]
  },
  {
   "cell_type": "markdown",
   "id": "061150cd-87fe-4d14-a6fa-895e87a0bbed",
   "metadata": {},
   "source": [
    "<h3>Save and load the trained model.</h3>"
   ]
  },
  {
   "cell_type": "code",
   "execution_count": 199,
   "id": "272bbf26-eca1-4f9c-88b2-660302c599c8",
   "metadata": {},
   "outputs": [
    {
     "name": "stderr",
     "output_type": "stream",
     "text": [
      "WARNING:absl:You are saving your model as an HDF5 file via `model.save()` or `keras.saving.save_model(model)`. This file format is considered legacy. We recommend using instead the native Keras format, e.g. `model.save('my_model.keras')` or `keras.saving.save_model(model, 'my_model.keras')`. \n"
     ]
    }
   ],
   "source": [
    "# Save the trained model to disk\n",
    "if not os.path.exists('models'): \n",
    "    os.makedirs('models')\n",
    "\n",
    "model.save(\"models/cnn.h5\")"
   ]
  },
  {
   "cell_type": "code",
   "execution_count": 200,
   "id": "c1af812c-5aa2-489a-a21a-4f8239849e7c",
   "metadata": {},
   "outputs": [
    {
     "name": "stderr",
     "output_type": "stream",
     "text": [
      "WARNING:absl:Compiled the loaded model, but the compiled metrics have yet to be built. `model.compile_metrics` will be empty until you train or evaluate the model.\n"
     ]
    }
   ],
   "source": [
    "# Load the model from disk\n",
    "loaded_model = keras.models.load_model(\"models/cnn.h5\")"
   ]
  },
  {
   "cell_type": "markdown",
   "id": "982c2c65-848e-4ab5-aa4b-d8677c0e2bdd",
   "metadata": {},
   "source": [
    "<h3>Playground</h3>"
   ]
  },
  {
   "cell_type": "code",
   "execution_count": 191,
   "id": "cba87b0f-695e-442f-b56c-89d5e9df53f4",
   "metadata": {},
   "outputs": [],
   "source": [
    "# Load the data and extract features for each sound file\n",
    "def load_single_data(file):\n",
    "    x, y = [], []\n",
    "    file_name = os.path.basename(file)\n",
    "    emotion = emotions[file_name.split(\"-\")[2]]\n",
    "    data, sr = librosa.load(file)\n",
    "    feature = extract_feature(data, sr, mfcc=True, chroma=True, mel=True)\n",
    "    x.append(feature)\n",
    "    y.append(emotion)\n",
    "    return np.array(x), y"
   ]
  },
  {
   "cell_type": "code",
   "execution_count": 192,
   "id": "436feeb2-8206-4be2-9880-cfedcc810310",
   "metadata": {},
   "outputs": [],
   "source": [
    "XX, yy = load_single_data(\"Desktop/speech-emotion-recognition-ravdess-data/Actor_01/03-01-01-01-01-01-01.wav\")"
   ]
  },
  {
   "cell_type": "code",
   "execution_count": 202,
   "id": "167c5fac-6a41-4b5c-b7b4-80fb23fa466a",
   "metadata": {},
   "outputs": [
    {
     "data": {
      "text/plain": [
       "['neutral']"
      ]
     },
     "execution_count": 202,
     "metadata": {},
     "output_type": "execute_result"
    }
   ],
   "source": [
    "yy"
   ]
  },
  {
   "cell_type": "code",
   "execution_count": null,
   "id": "826223b8-e3be-4e84-9c6e-ea8f5209120e",
   "metadata": {},
   "outputs": [],
   "source": []
  }
 ],
 "metadata": {
  "kernelspec": {
   "display_name": "Python 3 (ipykernel)",
   "language": "python",
   "name": "python3"
  },
  "language_info": {
   "codemirror_mode": {
    "name": "ipython",
    "version": 3
   },
   "file_extension": ".py",
   "mimetype": "text/x-python",
   "name": "python",
   "nbconvert_exporter": "python",
   "pygments_lexer": "ipython3",
   "version": "3.11.5"
  }
 },
 "nbformat": 4,
 "nbformat_minor": 5
}
